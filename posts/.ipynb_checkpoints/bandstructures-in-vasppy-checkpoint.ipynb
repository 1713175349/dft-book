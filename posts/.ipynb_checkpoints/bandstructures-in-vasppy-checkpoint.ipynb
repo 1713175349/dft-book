{
 "cells": [
  {
   "cell_type": "markdown",
   "metadata": {},
   "source": [
    "# Bandstructures in vasp.py"
   ]
  }
 ],
 "metadata": {
  "kernelspec": {
   "display_name": "Python 3",
   "language": "python",
   "name": "python3"
  },
  "language_info": {
   "codemirror_mode": {
    "name": "ipython",
    "version": 3
   },
   "file_extension": ".py",
   "mimetype": "text/x-python",
   "name": "python",
   "nbconvert_exporter": "python",
   "pygments_lexer": "ipython3",
   "version": "3.5.1"
  },
  "nikola": {
   "category": "",
   "date": "2016-05-27 19:13:58 UTC-04:00",
   "description": "",
   "link": "",
   "slug": "bandstructures-in-vasppy",
   "tags": "",
   "title": "Bandstructures in vasp.py",
   "type": "text"
  }
 },
 "nbformat": 4,
 "nbformat_minor": 0
}
