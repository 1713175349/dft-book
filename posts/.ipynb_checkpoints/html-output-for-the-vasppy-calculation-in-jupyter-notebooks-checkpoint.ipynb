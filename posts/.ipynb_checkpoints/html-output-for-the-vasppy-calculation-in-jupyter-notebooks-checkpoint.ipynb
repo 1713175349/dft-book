{
 "cells": [
  {
   "cell_type": "markdown",
   "metadata": {},
   "source": [
    "# HTML output for the vasp.py calculation in Jupyter notebooks"
   ]
  },
  {
   "cell_type": "code",
   "execution_count": 1,
   "metadata": {
    "collapsed": false
   },
   "outputs": [
    {
     "ename": "ImportError",
     "evalue": "cannot import name 'Vasp'",
     "output_type": "error",
     "traceback": [
      "\u001b[1;31m---------------------------------------------------------------------------\u001b[0m",
      "\u001b[1;31mImportError\u001b[0m                               Traceback (most recent call last)",
      "\u001b[1;32m<ipython-input-1-e3c2e58cbeda>\u001b[0m in \u001b[0;36m<module>\u001b[1;34m()\u001b[0m\n\u001b[1;32m----> 1\u001b[1;33m \u001b[1;32mfrom\u001b[0m \u001b[0mvasp\u001b[0m \u001b[1;32mimport\u001b[0m \u001b[0mVasp\u001b[0m\u001b[1;33m\u001b[0m\u001b[0m\n\u001b[0m\u001b[0;32m      2\u001b[0m \u001b[0mcalc\u001b[0m \u001b[1;33m=\u001b[0m \u001b[0mVasp\u001b[0m\u001b[1;33m(\u001b[0m\u001b[1;34m'~/dft-book/molecules/simple-co'\u001b[0m\u001b[1;33m)\u001b[0m\u001b[1;33m\u001b[0m\u001b[0m\n",
      "\u001b[1;32m/home-research/jkitchin/kitchin-python/vasp/vasp/__init__.py\u001b[0m in \u001b[0;36m<module>\u001b[1;34m()\u001b[0m\n\u001b[1;32m----> 1\u001b[1;33m \u001b[1;32mfrom\u001b[0m \u001b[0mvasp\u001b[0m \u001b[1;32mimport\u001b[0m \u001b[0mVasp\u001b[0m\u001b[1;33m\u001b[0m\u001b[0m\n\u001b[0m",
      "\u001b[1;31mImportError\u001b[0m: cannot import name 'Vasp'"
     ]
    }
   ],
   "source": [
    "from vasp import Vasp\n",
    "calc = Vasp('~/dft-book/molecules/simple-co')"
   ]
  }
 ],
 "metadata": {
  "kernelspec": {
   "display_name": "Python 3",
   "language": "python",
   "name": "python3"
  },
  "language_info": {
   "codemirror_mode": {
    "name": "ipython",
    "version": 3
   },
   "file_extension": ".py",
   "mimetype": "text/x-python",
   "name": "python",
   "nbconvert_exporter": "python",
   "pygments_lexer": "ipython3",
   "version": "3.5.1"
  },
  "nikola": {
   "category": "",
   "date": "2016-06-01 21:08:57 UTC-04:00",
   "description": "",
   "link": "",
   "slug": "html-output-for-the-vasppy-calculation-in-jupyter-notebooks",
   "tags": "",
   "title": "HTML output for the Vasp.py calculation in Jupyter notebooks",
   "type": "text"
  }
 },
 "nbformat": 4,
 "nbformat_minor": 0
}
